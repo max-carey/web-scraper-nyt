{
  "nbformat": 4,
  "nbformat_minor": 0,
  "metadata": {
    "colab": {
      "provenance": []
    },
    "kernelspec": {
      "name": "python3",
      "display_name": "Python 3"
    },
    "language_info": {
      "name": "python"
    }
  },
  "cells": [
    {
      "cell_type": "code",
      "execution_count": null,
      "metadata": {
        "id": "fv-FJxw52egj"
      },
      "outputs": [],
      "source": [
        "from bs4 import BeautifulSoup\n",
        "import selenium \n",
        "from selenium import webdriver\n",
        "from selenium.webdriver.common.proxy import Proxy, ProxyType\n",
        "from selenium.webdriver.chrome.options import Options\n",
        "import time \n",
        "import pandas as pd"
      ]
    },
    {
      "cell_type": "code",
      "source": [
        "driver = webdriver.Chrome('/usr/local/bin/chromedriver')"
      ],
      "metadata": {
        "id": "qqkkCJWc2i03"
      },
      "execution_count": null,
      "outputs": []
    },
    {
      "cell_type": "code",
      "source": [
        "def get_body(url):\n",
        "    driver.get(url)\n",
        "    article_text = ''\n",
        "    soup = BeautifulSoup(driver.page_source, 'html.parser')\n",
        "    paragraph = soup.find_all('p')\n",
        "    for i in paragraph:\n",
        "        a = i.get_text()\n",
        "        if a != 'Advertisement' and a != 'Supported by' and a != 'Send any friend a story' and a != 'As a subscriber, you have 10 gift articles to give each month. Anyone can read what you share.' and not a.startswith(\"By\"):\n",
        "            article_text += a \n",
                     article_text += " ",
        "    time.sleep(8)\n",
        "    return article_text"
      ],
      "metadata": {
        "id": "ffJVREXo2i83"
      },
      "execution_count": null,
      "outputs": []
    },
    {
      "cell_type": "code",
      "source": [
        "df = pd.read_csv(\"PATH_TO_THE_FILE\")"
      ],
      "metadata": {
        "id": "ROVnzQVF2i_M"
      },
      "execution_count": null,
      "outputs": []
    },
    {
      "cell_type": "code",
      "source": [
        "## CREATE A NEW COLUMN IN THE DATAFRAME CALLED \"article_doby\" WHERE WE ARE GOING TO APPEND THE TEXT RETRIEVE FROM \n",
        "## THE URL. NOTE: web_url REFERS TO THE COLUMN IN THE DATASET CONTAINING THE URL OF THE ARTICLE TO PASS TO get_body.\n",
        "\n",
        "df['article_body'] = df.apply(lambda x: get_body(x.web_url), axis=1)"
      ],
      "metadata": {
        "id": "FKphaG2h2jBa"
      },
      "execution_count": null,
      "outputs": []
    },
    {
      "cell_type": "code",
      "source": [
        "driver.close()"
      ],
      "metadata": {
        "id": "MEdS_OhZ2p4h"
      },
      "execution_count": null,
      "outputs": []
    },
    {
      "cell_type": "code",
      "source": [
        "df.to_csv(\"FILE_PATH\")"
      ],
      "metadata": {
        "id": "ZuJq7EhJ2p7D"
      },
      "execution_count": null,
      "outputs": []
    }
  ]
}
